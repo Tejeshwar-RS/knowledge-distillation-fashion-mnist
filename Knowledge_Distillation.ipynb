{
  "nbformat": 4,
  "nbformat_minor": 0,
  "metadata": {
    "colab": {
      "provenance": [],
      "gpuType": "T4",
      "authorship_tag": "ABX9TyPEAsQodfqd+cfUtnBvPuCj"
    },
    "kernelspec": {
      "name": "python3",
      "display_name": "Python 3"
    },
    "language_info": {
      "name": "python"
    },
    "accelerator": "GPU"
  },
  "cells": [
    {
      "cell_type": "code",
      "execution_count": 2,
      "metadata": {
        "colab": {
          "base_uri": "https://localhost:8080/"
        },
        "id": "DV8qDOLio2B4",
        "outputId": "4d31db57-e965-4547-c98d-dccedd415ed5"
      },
      "outputs": [
        {
          "output_type": "stream",
          "name": "stdout",
          "text": [
            "Using device: cuda\n"
          ]
        }
      ],
      "source": [
        "import torch\n",
        "import torch.nn as nn\n",
        "import torch.optim as optim\n",
        "import torch.nn.functional as F\n",
        "import torchvision\n",
        "import torchvision.transforms as transforms\n",
        "from torch.utils.data import DataLoader\n",
        "import time\n",
        "import matplotlib.pyplot as plt\n",
        "import numpy as np\n",
        "\n",
        "# Check GPU availability\n",
        "device = torch.device('cuda' if torch.cuda.is_available() else 'cpu')\n",
        "print(f\"Using device: {device}\")\n"
      ]
    },
    {
      "cell_type": "code",
      "source": [
        "# Fashion-MNIST preprocessing\n",
        "transform = transforms.Compose([\n",
        "    transforms.ToTensor(),\n",
        "    transforms.Normalize((0.5,), (0.5,))  # Normalize to [-1, 1]\n",
        "])\n",
        "\n",
        "# Download and load Fashion-MNIST\n",
        "train_dataset = torchvision.datasets.FashionMNIST(\n",
        "    root='./data', train=True, download=True, transform=transform\n",
        ")\n",
        "test_dataset = torchvision.datasets.FashionMNIST(\n",
        "    root='./data', train=False, download=True, transform=transform\n",
        ")\n",
        "\n",
        "train_loader = DataLoader(train_dataset, batch_size=128, shuffle=True)\n",
        "test_loader = DataLoader(test_dataset, batch_size=128, shuffle=False)\n",
        "\n",
        "# Fashion-MNIST classes\n",
        "classes = ['T-shirt/top', 'Trouser', 'Pullover', 'Dress', 'Coat',\n",
        "           'Sandal', 'Shirt', 'Sneaker', 'Bag', 'Ankle boot']\n",
        "\n",
        "print(f\"Training samples: {len(train_dataset)}\")\n",
        "print(f\"Test samples: {len(test_dataset)}\")\n",
        "print(f\"Classes: {classes}\")\n"
      ],
      "metadata": {
        "colab": {
          "base_uri": "https://localhost:8080/"
        },
        "id": "ruMm_5QApMMV",
        "outputId": "fc47e7cd-5540-457c-fdd2-1940aa4f0998"
      },
      "execution_count": 3,
      "outputs": [
        {
          "output_type": "stream",
          "name": "stderr",
          "text": [
            "100%|██████████| 26.4M/26.4M [00:00<00:00, 115MB/s]\n",
            "100%|██████████| 29.5k/29.5k [00:00<00:00, 3.26MB/s]\n",
            "100%|██████████| 4.42M/4.42M [00:00<00:00, 50.4MB/s]\n",
            "100%|██████████| 5.15k/5.15k [00:00<00:00, 21.4MB/s]\n"
          ]
        },
        {
          "output_type": "stream",
          "name": "stdout",
          "text": [
            "Training samples: 60000\n",
            "Test samples: 10000\n",
            "Classes: ['T-shirt/top', 'Trouser', 'Pullover', 'Dress', 'Coat', 'Sandal', 'Shirt', 'Sneaker', 'Bag', 'Ankle boot']\n"
          ]
        }
      ]
    },
    {
      "cell_type": "code",
      "source": [
        "class TeacherCNN(nn.Module):\n",
        "    def __init__(self, num_classes=10):\n",
        "        super(TeacherCNN, self).__init__()\n",
        "        # Large feature extractor\n",
        "        self.features = nn.Sequential(\n",
        "            nn.Conv2d(1, 128, kernel_size=3, padding=1),\n",
        "            nn.ReLU(),\n",
        "            nn.Conv2d(128, 128, kernel_size=3, padding=1),\n",
        "            nn.ReLU(),\n",
        "            nn.MaxPool2d(2),\n",
        "\n",
        "            nn.Conv2d(128, 256, kernel_size=3, padding=1),\n",
        "            nn.ReLU(),\n",
        "            nn.Conv2d(256, 256, kernel_size=3, padding=1),\n",
        "            nn.ReLU(),\n",
        "            nn.MaxPool2d(2),\n",
        "\n",
        "            nn.Conv2d(256, 512, kernel_size=3, padding=1),\n",
        "            nn.ReLU(),\n",
        "            nn.Conv2d(512, 512, kernel_size=3, padding=1),\n",
        "            nn.ReLU(),\n",
        "            nn.MaxPool2d(2)\n",
        "        )\n",
        "\n",
        "        # Large classifier\n",
        "        self.classifier = nn.Sequential(\n",
        "            nn.Dropout(0.5),\n",
        "            nn.Linear(512 * 3 * 3, 1024),\n",
        "            nn.ReLU(),\n",
        "            nn.Dropout(0.5),\n",
        "            nn.Linear(1024, 512),\n",
        "            nn.ReLU(),\n",
        "            nn.Linear(512, num_classes)\n",
        "        )\n",
        "\n",
        "    def forward(self, x):\n",
        "        x = self.features(x)\n",
        "        x = torch.flatten(x, 1)\n",
        "        x = self.classifier(x)\n",
        "        return x\n"
      ],
      "metadata": {
        "id": "VjkDFM4WpUQ7"
      },
      "execution_count": 4,
      "outputs": []
    },
    {
      "cell_type": "code",
      "source": [
        "def train_model(model, train_loader, num_epochs, learning_rate, device):\n",
        "    \"\"\"Standard training function for any CNN model\"\"\"\n",
        "    model.to(device)\n",
        "    criterion = nn.CrossEntropyLoss()\n",
        "    optimizer = optim.Adam(model.parameters(), lr=learning_rate)\n",
        "\n",
        "    model.train()\n",
        "    train_losses = []\n",
        "\n",
        "    for epoch in range(num_epochs):\n",
        "        running_loss = 0.0\n",
        "        for i, (inputs, labels) in enumerate(train_loader):\n",
        "            inputs, labels = inputs.to(device), labels.to(device)\n",
        "\n",
        "            optimizer.zero_grad()\n",
        "            outputs = model(inputs)\n",
        "            loss = criterion(outputs, labels)\n",
        "            loss.backward()\n",
        "            optimizer.step()\n",
        "\n",
        "            running_loss += loss.item()\n",
        "\n",
        "            if i % 100 == 99:  # Print every 100 mini-batches\n",
        "                print(f'Epoch [{epoch+1}/{num_epochs}], Step [{i+1}/{len(train_loader)}], Loss: {loss.item():.4f}')\n",
        "\n",
        "        avg_loss = running_loss / len(train_loader)\n",
        "        train_losses.append(avg_loss)\n",
        "        print(f'Epoch [{epoch+1}/{num_epochs}] completed, Average Loss: {avg_loss:.4f}')\n",
        "\n",
        "    return train_losses\n"
      ],
      "metadata": {
        "id": "PG2V9nCTpi1t"
      },
      "execution_count": 5,
      "outputs": []
    },
    {
      "cell_type": "code",
      "source": [
        "def test_model(model, test_loader, device):\n",
        "    \"\"\"Test model accuracy\"\"\"\n",
        "    model.to(device)\n",
        "    model.eval()\n",
        "    correct = 0\n",
        "    total = 0\n",
        "\n",
        "    with torch.no_grad():\n",
        "        for inputs, labels in test_loader:\n",
        "            inputs, labels = inputs.to(device), labels.to(device)\n",
        "            outputs = model(inputs)\n",
        "            _, predicted = torch.max(outputs, 1)\n",
        "            total += labels.size(0)\n",
        "            correct += (predicted == labels).sum().item()\n",
        "\n",
        "    accuracy = 100 * correct / total\n",
        "    print(f'Test Accuracy: {accuracy:.2f}%')\n",
        "    return accuracy\n",
        "\n",
        "def count_parameters(model):\n",
        "    return sum(p.numel() for p in model.parameters() if p.requires_grad)\n",
        "\n",
        "# Train Teacher Model\n",
        "print(\"Training Teacher Model...\")\n",
        "teacher_model = TeacherCNN(num_classes=10)\n",
        "teacher_losses = train_model(teacher_model, train_loader, num_epochs=5, learning_rate=0.001, device=device)\n",
        "teacher_accuracy = test_model(teacher_model, test_loader, device)\n",
        "teacher_params = count_parameters(teacher_model)\n",
        "print(f\"Teacher model parameters: {teacher_params:,}\")\n"
      ],
      "metadata": {
        "colab": {
          "base_uri": "https://localhost:8080/"
        },
        "id": "7Tk4CLETplgI",
        "outputId": "abd104c2-4827-4fd5-eb3f-3df7b150aca5"
      },
      "execution_count": 6,
      "outputs": [
        {
          "output_type": "stream",
          "name": "stdout",
          "text": [
            "Training Teacher Model...\n",
            "Epoch [1/5], Step [100/469], Loss: 0.7271\n",
            "Epoch [1/5], Step [200/469], Loss: 0.4466\n",
            "Epoch [1/5], Step [300/469], Loss: 0.5856\n",
            "Epoch [1/5], Step [400/469], Loss: 0.3492\n",
            "Epoch [1/5] completed, Average Loss: 0.6623\n",
            "Epoch [2/5], Step [100/469], Loss: 0.3166\n",
            "Epoch [2/5], Step [200/469], Loss: 0.3386\n",
            "Epoch [2/5], Step [300/469], Loss: 0.3550\n",
            "Epoch [2/5], Step [400/469], Loss: 0.3348\n",
            "Epoch [2/5] completed, Average Loss: 0.3312\n",
            "Epoch [3/5], Step [100/469], Loss: 0.4238\n",
            "Epoch [3/5], Step [200/469], Loss: 0.2069\n",
            "Epoch [3/5], Step [300/469], Loss: 0.2236\n",
            "Epoch [3/5], Step [400/469], Loss: 0.3767\n",
            "Epoch [3/5] completed, Average Loss: 0.2765\n",
            "Epoch [4/5], Step [100/469], Loss: 0.2557\n",
            "Epoch [4/5], Step [200/469], Loss: 0.2267\n",
            "Epoch [4/5], Step [300/469], Loss: 0.2331\n",
            "Epoch [4/5], Step [400/469], Loss: 0.2446\n",
            "Epoch [4/5] completed, Average Loss: 0.2429\n",
            "Epoch [5/5], Step [100/469], Loss: 0.1762\n",
            "Epoch [5/5], Step [200/469], Loss: 0.1453\n",
            "Epoch [5/5], Step [300/469], Loss: 0.1847\n",
            "Epoch [5/5], Step [400/469], Loss: 0.2282\n",
            "Epoch [5/5] completed, Average Loss: 0.2220\n",
            "Test Accuracy: 91.43%\n",
            "Teacher model parameters: 9,823,626\n"
          ]
        }
      ]
    },
    {
      "cell_type": "code",
      "source": [
        "class StudentCNN(nn.Module):\n",
        "    def __init__(self, num_classes=10):\n",
        "        super(StudentCNN, self).__init__()\n",
        "        # Small feature extractor - much fewer channels\n",
        "        self.features = nn.Sequential(\n",
        "            nn.Conv2d(1, 32, kernel_size=3, padding=1),\n",
        "            nn.ReLU(),\n",
        "            nn.MaxPool2d(2),\n",
        "\n",
        "            nn.Conv2d(32, 64, kernel_size=3, padding=1),\n",
        "            nn.ReLU(),\n",
        "            nn.MaxPool2d(2),\n",
        "\n",
        "            nn.Conv2d(64, 128, kernel_size=3, padding=1),\n",
        "            nn.ReLU(),\n",
        "            nn.MaxPool2d(2)\n",
        "        )\n",
        "\n",
        "        # Small classifier - fewer parameters\n",
        "        self.classifier = nn.Sequential(\n",
        "            nn.Dropout(0.3),\n",
        "            nn.Linear(128 * 3 * 3, 256),\n",
        "            nn.ReLU(),\n",
        "            nn.Dropout(0.3),\n",
        "            nn.Linear(256, num_classes)\n",
        "        )\n",
        "\n",
        "    def forward(self, x):\n",
        "        x = self.features(x)\n",
        "        x = torch.flatten(x, 1)\n",
        "        x = self.classifier(x)\n",
        "        return x\n"
      ],
      "metadata": {
        "id": "Jg6dy29CqZR9"
      },
      "execution_count": 7,
      "outputs": []
    },
    {
      "cell_type": "code",
      "source": [
        "def distillation_loss(student_logits, teacher_logits, labels, temperature=3.0, alpha=0.7):\n",
        "    \"\"\"\n",
        "    Compute the knowledge distillation loss combining soft and hard targets\n",
        "    Args:\n",
        "        student_logits: Raw outputs from student model\n",
        "        teacher_logits: Raw outputs from teacher model\n",
        "        labels: True labels\n",
        "        temperature: Temperature for softening probability distributions\n",
        "        alpha: Weight for distillation loss vs hard target loss\n",
        "    \"\"\"\n",
        "    # Soft targets from teacher (knowledge transfer)\n",
        "    teacher_probs = F.softmax(teacher_logits / temperature, dim=1)\n",
        "    student_log_probs = F.log_softmax(student_logits / temperature, dim=1)\n",
        "\n",
        "    # Distillation loss (KL divergence) - learns from teacher\n",
        "    distill_loss = F.kl_div(student_log_probs, teacher_probs, reduction='batchmean') * (temperature ** 2)\n",
        "\n",
        "    # Hard target loss - learns from ground truth\n",
        "    hard_loss = F.cross_entropy(student_logits, labels)\n",
        "\n",
        "    # Combined loss - balance both learning objectives\n",
        "    total_loss = alpha * distill_loss + (1 - alpha) * hard_loss\n",
        "\n",
        "    return total_loss\n"
      ],
      "metadata": {
        "id": "uaeFZbuPqbwc"
      },
      "execution_count": 8,
      "outputs": []
    },
    {
      "cell_type": "code",
      "source": [
        "def train_student_with_distillation(student_model, teacher_model, train_loader, num_epochs, learning_rate, device, temperature=3.0, alpha=0.7):\n",
        "    \"\"\"Train student model using knowledge distillation\"\"\"\n",
        "    student_model.to(device)\n",
        "    teacher_model.to(device)\n",
        "\n",
        "    # Set teacher to evaluation mode (no gradients needed)\n",
        "    teacher_model.eval()\n",
        "    student_model.train()\n",
        "\n",
        "    optimizer = optim.Adam(student_model.parameters(), lr=learning_rate)\n",
        "    train_losses = []\n",
        "\n",
        "    for epoch in range(num_epochs):\n",
        "        running_loss = 0.0\n",
        "\n",
        "        for i, (inputs, labels) in enumerate(train_loader):\n",
        "            inputs, labels = inputs.to(device), labels.to(device)\n",
        "\n",
        "            # Get teacher outputs (no gradients needed)\n",
        "            with torch.no_grad():\n",
        "                teacher_logits = teacher_model(inputs)\n",
        "\n",
        "            # Get student outputs and train\n",
        "            optimizer.zero_grad()\n",
        "            student_logits = student_model(inputs)\n",
        "\n",
        "            # Calculate distillation loss\n",
        "            loss = distillation_loss(student_logits, teacher_logits, labels, temperature, alpha)\n",
        "\n",
        "            loss.backward()\n",
        "            optimizer.step()\n",
        "\n",
        "            running_loss += loss.item()\n",
        "\n",
        "            if i % 100 == 99:\n",
        "                print(f'Epoch [{epoch+1}/{num_epochs}], Step [{i+1}/{len(train_loader)}], Loss: {loss.item():.4f}')\n",
        "\n",
        "        avg_loss = running_loss / len(train_loader)\n",
        "        train_losses.append(avg_loss)\n",
        "        print(f'Epoch [{epoch+1}/{num_epochs}] completed, Average Loss: {avg_loss:.4f}')\n",
        "\n",
        "    return train_losses\n"
      ],
      "metadata": {
        "id": "6jRU_1d9qgVC"
      },
      "execution_count": 9,
      "outputs": []
    },
    {
      "cell_type": "code",
      "source": [
        "# Train baseline student (without distillation)\n",
        "print(\"\\nTraining Student Model WITHOUT Distillation...\")\n",
        "student_baseline = StudentCNN(num_classes=10)\n",
        "baseline_losses = train_model(student_baseline, train_loader, num_epochs=5, learning_rate=0.001, device=device)\n",
        "baseline_accuracy = test_model(student_baseline, test_loader, device)\n",
        "\n",
        "# Train distilled student (with knowledge distillation)\n",
        "print(\"\\nTraining Student Model WITH Knowledge Distillation...\")\n",
        "student_distilled = StudentCNN(num_classes=10)\n",
        "distill_losses = train_student_with_distillation(\n",
        "    student_distilled, teacher_model, train_loader,\n",
        "    num_epochs=5, learning_rate=0.001, device=device,\n",
        "    temperature=3.0, alpha=0.7\n",
        ")\n",
        "distilled_accuracy = test_model(student_distilled, test_loader, device)\n",
        "\n",
        "student_params = count_parameters(student_baseline)\n",
        "print(f\"Student model parameters: {student_params:,}\")\n"
      ],
      "metadata": {
        "colab": {
          "base_uri": "https://localhost:8080/"
        },
        "id": "g_f45xv3qi6r",
        "outputId": "5c4435f4-3030-4048-ff93-d34cefb4e01a"
      },
      "execution_count": 10,
      "outputs": [
        {
          "output_type": "stream",
          "name": "stdout",
          "text": [
            "\n",
            "Training Student Model WITHOUT Distillation...\n",
            "Epoch [1/5], Step [100/469], Loss: 0.5788\n",
            "Epoch [1/5], Step [200/469], Loss: 0.5030\n",
            "Epoch [1/5], Step [300/469], Loss: 0.4255\n",
            "Epoch [1/5], Step [400/469], Loss: 0.3276\n",
            "Epoch [1/5] completed, Average Loss: 0.5577\n",
            "Epoch [2/5], Step [100/469], Loss: 0.4028\n",
            "Epoch [2/5], Step [200/469], Loss: 0.3909\n",
            "Epoch [2/5], Step [300/469], Loss: 0.2859\n",
            "Epoch [2/5], Step [400/469], Loss: 0.4887\n",
            "Epoch [2/5] completed, Average Loss: 0.3423\n",
            "Epoch [3/5], Step [100/469], Loss: 0.4053\n",
            "Epoch [3/5], Step [200/469], Loss: 0.2878\n",
            "Epoch [3/5], Step [300/469], Loss: 0.1703\n",
            "Epoch [3/5], Step [400/469], Loss: 0.2912\n",
            "Epoch [3/5] completed, Average Loss: 0.2959\n",
            "Epoch [4/5], Step [100/469], Loss: 0.1935\n",
            "Epoch [4/5], Step [200/469], Loss: 0.2179\n",
            "Epoch [4/5], Step [300/469], Loss: 0.2524\n",
            "Epoch [4/5], Step [400/469], Loss: 0.2450\n",
            "Epoch [4/5] completed, Average Loss: 0.2667\n",
            "Epoch [5/5], Step [100/469], Loss: 0.2429\n",
            "Epoch [5/5], Step [200/469], Loss: 0.3343\n",
            "Epoch [5/5], Step [300/469], Loss: 0.2790\n",
            "Epoch [5/5], Step [400/469], Loss: 0.2306\n",
            "Epoch [5/5] completed, Average Loss: 0.2445\n",
            "Test Accuracy: 90.91%\n",
            "\n",
            "Training Student Model WITH Knowledge Distillation...\n",
            "Epoch [1/5], Step [100/469], Loss: 1.3540\n",
            "Epoch [1/5], Step [200/469], Loss: 1.1640\n",
            "Epoch [1/5], Step [300/469], Loss: 0.8863\n",
            "Epoch [1/5], Step [400/469], Loss: 0.9767\n",
            "Epoch [1/5] completed, Average Loss: 1.6209\n",
            "Epoch [2/5], Step [100/469], Loss: 0.6227\n",
            "Epoch [2/5], Step [200/469], Loss: 0.7192\n",
            "Epoch [2/5], Step [300/469], Loss: 0.5581\n",
            "Epoch [2/5], Step [400/469], Loss: 0.5882\n",
            "Epoch [2/5] completed, Average Loss: 0.6320\n",
            "Epoch [3/5], Step [100/469], Loss: 0.6184\n",
            "Epoch [3/5], Step [200/469], Loss: 0.4061\n",
            "Epoch [3/5], Step [300/469], Loss: 0.4689\n",
            "Epoch [3/5], Step [400/469], Loss: 0.4645\n",
            "Epoch [3/5] completed, Average Loss: 0.4754\n",
            "Epoch [4/5], Step [100/469], Loss: 0.4336\n",
            "Epoch [4/5], Step [200/469], Loss: 0.3731\n",
            "Epoch [4/5], Step [300/469], Loss: 0.3454\n",
            "Epoch [4/5], Step [400/469], Loss: 0.4100\n",
            "Epoch [4/5] completed, Average Loss: 0.3956\n",
            "Epoch [5/5], Step [100/469], Loss: 0.2858\n",
            "Epoch [5/5], Step [200/469], Loss: 0.4987\n",
            "Epoch [5/5], Step [300/469], Loss: 0.2741\n",
            "Epoch [5/5], Step [400/469], Loss: 0.3791\n",
            "Epoch [5/5] completed, Average Loss: 0.3510\n",
            "Test Accuracy: 89.32%\n",
            "Student model parameters: 390,410\n"
          ]
        }
      ]
    },
    {
      "cell_type": "code",
      "source": [
        "def measure_inference_time(model, test_loader, device, num_batches=50):\n",
        "    \"\"\"Measure average inference time per batch\"\"\"\n",
        "    model.to(device)\n",
        "    model.eval()\n",
        "\n",
        "    times = []\n",
        "    with torch.no_grad():\n",
        "        for i, (inputs, _) in enumerate(test_loader):\n",
        "            if i >= num_batches:\n",
        "                break\n",
        "\n",
        "            inputs = inputs.to(device)\n",
        "\n",
        "            start_time = time.time()\n",
        "            _ = model(inputs)\n",
        "            torch.cuda.synchronize()  # Wait for GPU operations to complete\n",
        "            end_time = time.time()\n",
        "\n",
        "            times.append(end_time - start_time)\n",
        "\n",
        "    avg_time = np.mean(times) * 1000  # Convert to milliseconds\n",
        "    return avg_time\n",
        "\n",
        "# Measure inference times\n",
        "teacher_time = measure_inference_time(teacher_model, test_loader, device)\n",
        "student_baseline_time = measure_inference_time(student_baseline, test_loader, device)\n",
        "student_distilled_time = measure_inference_time(student_distilled, test_loader, device)\n",
        "\n",
        "# Calculate model sizes (approximate)\n",
        "teacher_size = teacher_params * 4 / (1024**2)  # Assuming 32-bit floats, convert to MB\n",
        "student_size = student_params * 4 / (1024**2)\n"
      ],
      "metadata": {
        "id": "4-1VrOHyrgy2"
      },
      "execution_count": 11,
      "outputs": []
    },
    {
      "cell_type": "code",
      "source": [
        "print(\"\\n\" + \"=\"*60)\n",
        "print(\"KNOWLEDGE DISTILLATION RESULTS SUMMARY\")\n",
        "print(\"=\"*60)\n",
        "\n",
        "print(f\"\\nMODEL ACCURACY:\")\n",
        "print(f\"Teacher Model:           {teacher_accuracy:.2f}%\")\n",
        "print(f\"Student (Baseline):      {baseline_accuracy:.2f}%\")\n",
        "print(f\"Student (Distilled):     {distilled_accuracy:.2f}%\")\n",
        "print(f\"Improvement:             {distilled_accuracy - baseline_accuracy:.2f}%\")\n",
        "\n",
        "print(f\"\\nMODEL SIZE:\")\n",
        "print(f\"Teacher Parameters:      {teacher_params:,}\")\n",
        "print(f\"Student Parameters:      {student_params:,}\")\n",
        "print(f\"Size Reduction:          {teacher_params/student_params:.1f}x smaller\")\n",
        "print(f\"Teacher Size:            {teacher_size:.1f} MB\")\n",
        "print(f\"Student Size:            {student_size:.1f} MB\")\n",
        "\n",
        "print(f\"\\nINFERENCE SPEED (per batch):\")\n",
        "print(f\"Teacher Model:           {teacher_time:.2f} ms\")\n",
        "print(f\"Student (Baseline):      {student_baseline_time:.2f} ms\")\n",
        "print(f\"Student (Distilled):     {student_distilled_time:.2f} ms\")\n",
        "print(f\"Speed Improvement:       {teacher_time/student_distilled_time:.1f}x faster\")\n",
        "\n",
        "print(f\"\\nKEY INSIGHTS:\")\n",
        "print(f\"• Student model is {teacher_params/student_params:.1f}x smaller than teacher\")\n",
        "print(f\"• Student model is {teacher_time/student_distilled_time:.1f}x faster than teacher\")\n",
        "print(f\"• Knowledge distillation improved student accuracy by {distilled_accuracy - baseline_accuracy:.2f}%\")\n",
        "print(f\"• Only {teacher_accuracy - distilled_accuracy:.2f}% accuracy loss vs teacher with major efficiency gains\")\n"
      ],
      "metadata": {
        "colab": {
          "base_uri": "https://localhost:8080/"
        },
        "id": "VfO4K7pVrk5Q",
        "outputId": "feff1ff1-301b-46c4-b656-7c9fc30dcfb6"
      },
      "execution_count": 12,
      "outputs": [
        {
          "output_type": "stream",
          "name": "stdout",
          "text": [
            "\n",
            "============================================================\n",
            "KNOWLEDGE DISTILLATION RESULTS SUMMARY\n",
            "============================================================\n",
            "\n",
            "MODEL ACCURACY:\n",
            "Teacher Model:           91.43%\n",
            "Student (Baseline):      90.91%\n",
            "Student (Distilled):     89.32%\n",
            "Improvement:             -1.59%\n",
            "\n",
            "MODEL SIZE:\n",
            "Teacher Parameters:      9,823,626\n",
            "Student Parameters:      390,410\n",
            "Size Reduction:          25.2x smaller\n",
            "Teacher Size:            37.5 MB\n",
            "Student Size:            1.5 MB\n",
            "\n",
            "INFERENCE SPEED (per batch):\n",
            "Teacher Model:           18.65 ms\n",
            "Student (Baseline):      1.56 ms\n",
            "Student (Distilled):     1.60 ms\n",
            "Speed Improvement:       11.7x faster\n",
            "\n",
            "KEY INSIGHTS:\n",
            "• Student model is 25.2x smaller than teacher\n",
            "• Student model is 11.7x faster than teacher\n",
            "• Knowledge distillation improved student accuracy by -1.59%\n",
            "• Only 2.11% accuracy loss vs teacher with major efficiency gains\n"
          ]
        }
      ]
    },
    {
      "cell_type": "code",
      "source": [
        "plt.figure(figsize=(15, 5))\n",
        "\n",
        "# Plot 1: Training losses\n",
        "plt.subplot(1, 3, 1)\n",
        "plt.plot(teacher_losses, label='Teacher', linewidth=2)\n",
        "plt.plot(baseline_losses, label='Student (Baseline)', linewidth=2)\n",
        "plt.plot(distill_losses, label='Student (Distilled)', linewidth=2)\n",
        "plt.title('Training Loss Comparison')\n",
        "plt.xlabel('Epoch')\n",
        "plt.ylabel('Loss')\n",
        "plt.legend()\n",
        "plt.grid(True, alpha=0.3)\n",
        "\n",
        "# Plot 2: Accuracy comparison\n",
        "plt.subplot(1, 3, 2)\n",
        "models = ['Teacher', 'Student\\n(Baseline)', 'Student\\n(Distilled)']\n",
        "accuracies = [teacher_accuracy, baseline_accuracy, distilled_accuracy]\n",
        "colors = ['#1f77b4', '#ff7f0e', '#2ca02c']\n",
        "bars = plt.bar(models, accuracies, color=colors)\n",
        "plt.title('Model Accuracy Comparison')\n",
        "plt.ylabel('Accuracy (%)')\n",
        "plt.ylim(0, 100)\n",
        "\n",
        "# Add value labels on bars\n",
        "for bar, acc in zip(bars, accuracies):\n",
        "    plt.text(bar.get_x() + bar.get_width()/2, bar.get_height() + 0.5,\n",
        "             f'{acc:.1f}%', ha='center', va='bottom', fontweight='bold')\n",
        "\n",
        "# Plot 3: Efficiency comparison\n",
        "plt.subplot(1, 3, 3)\n",
        "x = np.arange(len(models))\n",
        "width = 0.35\n",
        "\n",
        "# Normalize for visualization (teacher = 100%)\n",
        "size_norm = [100, student_params/teacher_params*100, student_params/teacher_params*100]\n",
        "speed_norm = [100, student_baseline_time/teacher_time*100, student_distilled_time/teacher_time*100]\n",
        "\n",
        "bars1 = plt.bar(x - width/2, size_norm, width, label='Model Size (%)', color='lightcoral')\n",
        "bars2 = plt.bar(x + width/2, speed_norm, width, label='Inference Time (%)', color='lightblue')\n",
        "\n",
        "plt.title('Efficiency Comparison\\n(Relative to Teacher)')\n",
        "plt.ylabel('Percentage (%)')\n",
        "plt.xticks(x, models)\n",
        "plt.legend()\n",
        "\n",
        "plt.tight_layout()\n",
        "plt.show()\n",
        "\n",
        "# Save models for submission\n",
        "torch.save(teacher_model.state_dict(), 'teacher_model.pth')\n",
        "torch.save(student_distilled.state_dict(), 'student_distilled_model.pth')\n",
        "print(\"\\nModels saved successfully!\")\n"
      ],
      "metadata": {
        "id": "DGO7FkGFrp_R",
        "outputId": "cad3421c-1464-4871-c906-de20b2375121",
        "colab": {
          "base_uri": "https://localhost:8080/",
          "height": 504
        }
      },
      "execution_count": 13,
      "outputs": [
        {
          "output_type": "display_data",
          "data": {
            "text/plain": [
              "<Figure size 1500x500 with 3 Axes>"
            ],
            "image/png": "[encoded data removed]"
          },
          "metadata": {}
        },
        {
          "output_type": "stream",
          "name": "stdout",
          "text": [
            "\n",
            "Models saved successfully!\n"
          ]
        }
      ]
    }
  ]
}